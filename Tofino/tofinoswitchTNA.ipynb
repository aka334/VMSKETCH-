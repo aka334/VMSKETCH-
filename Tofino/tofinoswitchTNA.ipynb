{
 "cells": [
  {
   "cell_type": "code",
   "execution_count": null,
   "id": "e984e4d8-76ef-4915-b843-6f5044c67804",
   "metadata": {
    "editable": true,
    "slideshow": {
     "slide_type": ""
    },
    "tags": []
   },
   "outputs": [],
   "source": [
    "from fabrictestbed_extensions.fablib.fablib import FablibManager\n",
    "fablib = FablibManager(project_id=\"\")# update project ID\n"
   ]
  },
  {
   "cell_type": "code",
   "execution_count": 2,
   "id": "218479c6-a514-4faf-a24d-52e913c9df7f",
   "metadata": {
    "editable": true,
    "slideshow": {
     "slide_type": ""
    },
    "tags": []
   },
   "outputs": [],
   "source": [
    "# --- variables you must define before building the slice ---\n",
    "site1 = \"STAR\"                # VM site\n",
    "site2 = \"FIU\"                # P4 switch site\n",
    "slice_name = \"P4-Lab-STAR\"\n",
    "node1_name = \"Node1\"\n",
    "node2_name = \"Node2\"\n",
    "p4_name    = \"P4\"\n",
    "network1_name = \"net1\"\n",
    "network2_name = \"net2\"\n",
    "model = \"NIC_Basic\"           # keep this unless you specifically need ConnectX\n"
   ]
  },
  {
   "cell_type": "code",
   "execution_count": null,
   "id": "a32e1993-5f00-42ed-ac21-3dc0f4f0f61e",
   "metadata": {
    "editable": true,
    "slideshow": {
     "slide_type": ""
    },
    "tags": []
   },
   "outputs": [],
   "source": [
    "# Create Slice\n",
    "slice = fablib.new_slice(name=slice_name)\n",
    "\n",
    "# Create Networks (note: both use 192.168.0.0/24 in the tutorial)\n",
    "net1 = slice.add_l2network(name=network1_name)\n",
    "net2 = slice.add_l2network(name=network2_name)\n",
    "\n",
    "# Node 1 @ site1 on net1\n",
    "node1 = slice.add_node(name=node1_name, site=site1)\n",
    "iface1 = node1.add_component(model=model, name='nic1').get_interfaces()[0]\n",
    "iface1.set_mode('config')\n",
    "net1.add_interface(iface1)\n",
    "\n",
    "# P4 switch @ site2 with two ports: iface2 on net1, iface3 on net2\n",
    "p4 = slice.add_switch(name=p4_name, site=site2)\n",
    "iface2 = p4.get_interfaces()[0]\n",
    "iface3 = p4.get_interfaces()[1]\n",
    "net1.add_interface(iface2)\n",
    "net2.add_interface(iface3)\n",
    "\n",
    "# Node 2 @ site1 on net2\n",
    "node2 = slice.add_node(name=node2_name, site=site1)\n",
    "iface4 = node2.add_component(model=model, name='nic1').get_interfaces()[0]\n",
    "iface4.set_mode('config')\n",
    "net2.add_interface(iface4)\n",
    "\n",
    "# Submit\n",
    "slice.submit()\n"
   ]
  },
  {
   "cell_type": "code",
   "execution_count": null,
   "id": "bf42df25-6665-453e-9ed8-16530c38f6df",
   "metadata": {
    "editable": true,
    "slideshow": {
     "slide_type": ""
    },
    "tags": []
   },
   "outputs": [],
   "source": [
    "slice.delete()"
   ]
  },
  {
   "cell_type": "code",
   "execution_count": null,
   "id": "aa4f2fc2-b990-4951-8780-f3fc3fe62111",
   "metadata": {},
   "outputs": [],
   "source": []
  }
 ],
 "metadata": {
  "kernelspec": {
   "display_name": "Python 3 (ipykernel)",
   "language": "python",
   "name": "python3"
  },
  "language_info": {
   "codemirror_mode": {
    "name": "ipython",
    "version": 3
   },
   "file_extension": ".py",
   "mimetype": "text/x-python",
   "name": "python",
   "nbconvert_exporter": "python",
   "pygments_lexer": "ipython3",
   "version": "3.11.9"
  }
 },
 "nbformat": 4,
 "nbformat_minor": 5
}
