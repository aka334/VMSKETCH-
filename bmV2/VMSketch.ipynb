{
 "cells": [
  {
   "cell_type": "code",
   "execution_count": null,
   "id": "cb57412c-bac7-44dd-a03f-c4cebdf1299e",
   "metadata": {},
   "outputs": [],
   "source": [
    "from fabrictestbed_extensions.fablib.fablib import FablibManager as fablib_manager\n",
    "\n",
    "# Update this line to specify your project id\n",
    "project_id = \"\"\n",
    "\n",
    "fablib = fablib_manager(project_id=project_id)"
   ]
  },
  {
   "cell_type": "code",
   "execution_count": 2,
   "id": "0d4d83f1-dd5c-407e-8641-dea6f8c56d23",
   "metadata": {},
   "outputs": [],
   "source": [
    "site = \"STAR\""
   ]
  },
  {
   "cell_type": "code",
   "execution_count": 3,
   "id": "419f4381-77d4-40f5-8e3c-3e3e6b532ac3",
   "metadata": {},
   "outputs": [],
   "source": [
    "slice = fablib.new_slice(name=\"VMS\")"
   ]
  },
  {
   "cell_type": "code",
   "execution_count": 4,
   "id": "7b38381b-0abe-4583-81af-0dd5bdcf735a",
   "metadata": {},
   "outputs": [],
   "source": [
    "server1 = slice.add_node(name=\"server1\", \n",
    "                         site=site, \n",
    "                         cores=16, \n",
    "                         ram=128, \n",
    "                         disk=100, \n",
    "                         image='attestable_bmv2_v2_ubuntu_20')\n"
   ]
  },
  {
   "cell_type": "code",
   "execution_count": 5,
   "id": "8136718a-64a0-491d-bdf9-0c4ace2cdb5b",
   "metadata": {},
   "outputs": [],
   "source": [
    "iface1 = server1.add_component(model=\"NIC_Basic\", name=\"server1-iface1\")"
   ]
  },
  {
   "cell_type": "code",
   "execution_count": 6,
   "id": "57a3a802-48fc-49d0-aedc-46f595fc59f9",
   "metadata": {},
   "outputs": [],
   "source": [
    "switch1 = slice.add_node(name=\"switch1\", site=site, cores=64, ram=128,  disk=100, image=\"attestable_bmv2_v2_ubuntu_20\")"
   ]
  },
  {
   "cell_type": "code",
   "execution_count": 7,
   "id": "45691976-163e-4501-aae2-18e4cb0965fa",
   "metadata": {},
   "outputs": [],
   "source": [
    "sw1_iface1 = switch1.add_component(model=\"NIC_Basic\", name=\"sw1-iface1\")  # to server"
   ]
  },
  {
   "cell_type": "code",
   "execution_count": 8,
   "id": "871baa9e-6541-4e64-8711-b7569da7758a",
   "metadata": {},
   "outputs": [],
   "source": [
    "net_s1 = slice.add_l2network(name=\"net-server1-switch1\", interfaces=[iface1.get_interfaces()[0], sw1_iface1.get_interfaces()[0]])"
   ]
  },
  {
   "cell_type": "code",
   "execution_count": 9,
   "id": "afcdae4d-a418-4f10-b6d0-c7b36766fa0a",
   "metadata": {},
   "outputs": [],
   "source": [
    "import os\n",
    "with open(os.path.expanduser(\"~/.ssh/id_rsa.pub\"), \"r\") as f:\n",
    "    public_key = f.read().strip()\n"
   ]
  },
  {
   "cell_type": "code",
   "execution_count": 10,
   "id": "870e8d39-3e91-49d1-90f5-60e2df309d30",
   "metadata": {},
   "outputs": [],
   "source": [
    "import types\n",
    "\n",
    "def _custom_get_slice_public_key(self):\n",
    "    return public_key\n",
    "\n",
    "slice.get_slice_public_key = types.MethodType(_custom_get_slice_public_key, slice)"
   ]
  },
  {
   "cell_type": "code",
   "execution_count": null,
   "id": "531f36f0-19e9-4582-83e5-6eb6b9d0c140",
   "metadata": {},
   "outputs": [],
   "source": [
    "slice.submit()"
   ]
  },
  {
   "cell_type": "code",
   "execution_count": null,
   "id": "390970a9-9e6e-4170-a4b2-042c03a60b78",
   "metadata": {},
   "outputs": [],
   "source": [
    "slice.delete()"
   ]
  }
 ],
 "metadata": {
  "kernelspec": {
   "display_name": "Python 3 (ipykernel)",
   "language": "python",
   "name": "python3"
  },
  "language_info": {
   "codemirror_mode": {
    "name": "ipython",
    "version": 3
   },
   "file_extension": ".py",
   "mimetype": "text/x-python",
   "name": "python",
   "nbconvert_exporter": "python",
   "pygments_lexer": "ipython3",
   "version": "3.11.9"
  }
 },
 "nbformat": 4,
 "nbformat_minor": 5
}
